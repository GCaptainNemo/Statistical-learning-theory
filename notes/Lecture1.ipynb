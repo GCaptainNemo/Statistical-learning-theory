{
 "cells": [
  {
   "cell_type": "markdown",
   "metadata": {},
   "source": [
    "# Lecture 1 Statistical Learning Theory"
   ]
  },
  {
   "cell_type": "markdown",
   "metadata": {},
   "source": [
    "## 1. Notation"
   ]
  },
  {
   "cell_type": "markdown",
   "metadata": {},
   "source": [
    "考虑最简单的二分类问题，给出如下基本定义："
   ]
  },
  {
   "cell_type": "code",
   "execution_count": 71,
   "metadata": {},
   "outputs": [
    {
     "data": {
      "text/latex": [
       "\\begin{alignat}{2}\n",
       "&回归函数(regression function) &\\qquad &\\eta(x) = P(Y=1|X) \\\\\n",
       "&分类器(classifier) &\\qquad &h:\\mathscr{X} \\rightarrow \\{0, 1\\} \\\\\n",
       "&分类误差(classification \\ error) &\\qquad &R(h) = P(h(X) \\neq Y)=\\int \\mathbb{1}(h(X) \\neq Y)dP(X, Y)\\\\\n",
       "\n",
       "\\end{alignat}\n",
       "    \n"
      ],
      "text/plain": [
       "<IPython.core.display.Latex object>"
      ]
     },
     "metadata": {},
     "output_type": "display_data"
    }
   ],
   "source": [
    "%%latex\n",
    "\\begin{alignat}{2}\n",
    "&回归函数(regression function) &\\qquad &\\eta(x) = P(Y=1|X) \\\\\n",
    "&分类器(classifier) &\\qquad &h:\\mathscr{X} \\rightarrow \\{0, 1\\} \\\\\n",
    "&分类误差(classification \\ error) &\\qquad &R(h) = P(h(X) \\neq Y)=\\int \\mathbb{1}(h(X) \\neq Y)dP(X, Y)\\\\\n",
    "\n",
    "\\end{alignat}\n",
    "    \n"
   ]
  },
  {
   "cell_type": "markdown",
   "metadata": {},
   "source": [
    "在决策理论有一个基本的定理，在对分类问题所有信息已知的情况下(回归函数已知)，贝叶斯分类器(Bayes classifier)是所有分类器中分类误差最小的分类器，其它分类器与贝叶斯分类器的分类误差之差称为溢出风险(excess risk)。"
   ]
  },
  {
   "cell_type": "code",
   "execution_count": 75,
   "metadata": {},
   "outputs": [
    {
     "ename": "SyntaxError",
     "evalue": "invalid character in identifier (<ipython-input-75-5d81be301a70>, line 1)",
     "output_type": "error",
     "traceback": [
      "\u001b[1;36m  File \u001b[1;32m\"<ipython-input-75-5d81be301a70>\"\u001b[1;36m, line \u001b[1;32m1\u001b[0m\n\u001b[1;33m    在决策理论有一个基本的定理，在对分类问题所有信息已知的情况下(回归函数已知)，贝叶斯分类器(Bayes classifier)是所有分类器中分类误差最小的分类器，其它分类器与贝叶斯分类器的分类误差之差称为溢出风险(excess risk)。\u001b[0m\n\u001b[1;37m                                 ^\u001b[0m\n\u001b[1;31mSyntaxError\u001b[0m\u001b[1;31m:\u001b[0m invalid character in identifier\n"
     ]
    }
   ],
   "source": [
    "\n",
    "%%latex\n",
    "\\begin{alignat}{2}\n",
    "\n",
    "&贝叶斯分类器 &\\qquad& h^* = \\inf_{h\\in \\Omega} R(h) = \\mathbb{1}(\\eta(X) > 1/2) \\quad (其中\\Omega为从\\mathscr{X}到\\{0, 1\\}的可测函数组成的集合)\\\\\n",
    "&溢出风险 & \\qquad & \\epsilon(h) = R(h) - R(h^*) \\\\\n",
    "\n",
    "\\end{alignat}\n",
    "    \n"
   ]
  },
  {
   "cell_type": "markdown",
   "metadata": {},
   "source": [
    "由于在一般问题中，数据分布P(X, Y)是未知的，只有观测数据集{(x<sub>i</sub>, y<sub>i</sub>)}<sub>i = 1, 2, ..., n</sub>(含有P(X,Y)的部分信息)，没法求分类器h的分类误差，只能求相应的经验风险，并由经验误差定义经验误差最小点(empirical risk minimizer, ERM)。"
   ]
  },
  {
   "cell_type": "code",
   "execution_count": 68,
   "metadata": {},
   "outputs": [
    {
     "data": {
      "text/latex": [
       "\\begin{alignat}{2}\n",
       "&经验风险(empirical \\ risk)&\\qquad& \\hat{R_n} = \\frac{1}{n}\\sum_{i=1}^n \\mathbb{1}(h(X) \\neq Y)\\\\\n",
       "&经验风险最小点(ERM) &\\qquad& \\hat{h_n} = \\min_{h \\in \\mathscr{H}} \\hat{R_n}(h) \n",
       "\\quad (\\mathscr{H}代表分类器的假设空间) \\\\ \n",
       "\n",
       "    \\end{alignat}\n",
       "    \n"
      ],
      "text/plain": [
       "<IPython.core.display.Latex object>"
      ]
     },
     "metadata": {},
     "output_type": "display_data"
    }
   ],
   "source": [
    "%%latex\n",
    "\\begin{alignat}{2}\n",
    "&经验风险(empirical \\ risk)&\\qquad& \\hat{R_n} = \\frac{1}{n}\\sum_{i=1}^n \\mathbb{1}(h(X) \\neq Y)\\\\\n",
    "&经验风险最小点(ERM) &\\qquad& \\hat{h_n} = \\min_{h \\in \\mathscr{H}} \\hat{R_n}(h) \n",
    "\\quad (\\mathscr{H}代表分类器的假设空间) \\\\ \n",
    "\n",
    "    \\end{alignat}\n",
    "    "
   ]
  },
  {
   "cell_type": "code",
   "execution_count": null,
   "metadata": {},
   "outputs": [],
   "source": []
  },
  {
   "cell_type": "code",
   "execution_count": null,
   "metadata": {},
   "outputs": [],
   "source": []
  },
  {
   "cell_type": "code",
   "execution_count": null,
   "metadata": {},
   "outputs": [],
   "source": []
  }
 ],
 "metadata": {
  "kernelspec": {
   "display_name": "Python 3",
   "language": "python",
   "name": "python3"
  },
  "language_info": {
   "codemirror_mode": {
    "name": "ipython",
    "version": 3
   },
   "file_extension": ".py",
   "mimetype": "text/x-python",
   "name": "python",
   "nbconvert_exporter": "python",
   "pygments_lexer": "ipython3",
   "version": "3.7.6"
  }
 },
 "nbformat": 4,
 "nbformat_minor": 4
}
