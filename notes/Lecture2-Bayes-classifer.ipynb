{
 "cells": [
  {
   "cell_type": "markdown",
   "metadata": {},
   "source": [
    "# Bayes分类器"
   ]
  },
  {
   "cell_type": "markdown",
   "metadata": {},
   "source": [
    "二分类情况下，Bayes分类器的定义为:\n",
    "\n",
    "$$h^* = \\mathbb{1}(\\eta(X) > 1/2) $$\n",
    "\n",
    "关于Bayes分类器主要对其两个性质进行讨论，一是其分类误差(classification error)，二是其它分类器与它的溢出风险(excess error)。"
   ]
  },
  {
   "cell_type": "markdown",
   "metadata": {},
   "source": [
    "## 1. 分类误差\n",
    "### 1.1 二分类问题\n",
    "考虑二分类情况下，Bayes分类器的分类误差：\n",
    "\n",
    "\n",
    "$$R(h^*) = P(h^*(X)\\neq Y) = P(Y=1,h^{*}(X)=0) + P(Y=0, h^{*}(X)=1)$$\n",
    "\n",
    "由全概率公式和链式法则：\n",
    "\n",
    "$$\\begin{aligned}\n",
    "P(Y=1,h^*(X)=0) &= \\sum_{X}P(Y=1, h^*(X)=0|X) \\ P(X)  \\\\\n",
    "          &= \\sum_{X}P(Y=1|X) \\ P(h^*(X)=0|X, Y=1) \\ P(X) \\\\\n",
    "          &= \\mathbb{E}_{X \\sim P(X)}[\\eta(X) \\mathbb{1}(h^*(X)=0) ]  \\\\ \n",
    "         &= \\mathbb{E}_{X \\sim P(X)}[\\eta(X) \\mathbb{1}(\\eta(X) < 1/2)] \n",
    "\\end{aligned}$$\n",
    "\n",
    "**注意**：上式第三排公式，是因为在给定$X$的情况$h^*(X)=0$是一个确定事件，可以用一个指示随机变量 $\\mathbb{1}(h^*(X)=0)$ 表示它发生的概率(0或1)。\n",
    "\n",
    "同理可得：\n",
    "\n",
    "$$ P(Y=0,h^*(X)=1) = \\mathbb{E}_{X \\sim P(X)}[(1 - \\eta(X)) \\mathbb{1}(\\eta(X) > 1/2)]$$\n",
    "\n",
    "从而可以得到Bayes classifier的分类误差：\n",
    "\n",
    "$$ R(h^*) = P(Y=1,h^{*}(X)=0) + P(Y=0, h^{*}(X)=1) = \\mathbb{E}_{X \\sim P(X)}[\\min\\{ \\eta(X), 1-\\eta(X)\\}]$$\n",
    "\n",
    "### 1.2 多分类问题\n",
    "多分类情况下，Bayes分类器的定义为:\n",
    "\n",
    "$$ h^*(X) = \\arg\\max_{Y} P(Y|X)$$\n",
    "\n",
    "选中的类别记为$Y^*$，多分类情况下Bayes分类器的分类误差如下所示。\n",
    "\n",
    "$$ R(h^*) = \\mathbb{E}_{X \\sim P(X)}[1 - P(Y^*|X)] $$\n"
   ]
  },
  {
   "cell_type": "markdown",
   "metadata": {},
   "source": [
    "## 2. 溢出风险\n",
    "下面考虑二分类问题下，分类器$h$的溢出风险(excess risk) $\\epsilon(h) = R(h) - R(h^*)$。由1可得，分类器$h$的分类误差为：\n",
    "\n",
    "$$R(h) = P(h(X)\\neq Y) = P(Y=1,h(X)=0) + P(Y=0, h(X)=1)$$\n",
    "\n",
    "其中：\n",
    "\n",
    "$$\\begin{aligned}\n",
    "P(Y=1,h(X)=0) &= \\sum_{X}P(Y=1, h(X)=0|X) \\ P(X)  \\\\\n",
    "          &= \\sum_{X}P(Y=1|X) \\ P(h(X)=0|X, Y=1) \\ P(X) \\\\\n",
    "          &= \\mathbb{E}_{X \\sim P(X)} \\ [\\eta(X) \\mathbb{1}(h(X)=0)]  \\\\ \n",
    "\\end{aligned}$$\n",
    "\n",
    "则：\n",
    "\n",
    "$$\\begin{aligned}\n",
    "R(h) &= P(Y=1,h(X)=0) + P(Y=0, h(X)=1) \\\\ \n",
    "    &= \\mathbb{E}_{X \\sim P(X)} \\ [\\eta(X) \\mathbb{1}(h(X)=0) + (1-\\eta(X)) \\mathbb{1}(h(X)=1)] \\\\ \n",
    "\\end{aligned}$$\n",
    "\n",
    "溢出风险为：\n",
    "\n",
    "$$ \\begin{aligned}\n",
    "\\epsilon(h) &= R(h) - R(h^*) \\\\\n",
    "        &= \\mathbb{E}_{X \\sim P(X)} \\ [\\eta(X) (\\mathbb{1}(h(X)=0) - \\mathbb{1}(h^*(X)=0)) + (1-\\eta(X)) (\\mathbb{1}(h(X)=1) - \\mathbb{1}(h^*(X)=1))] \\\\\n",
    "\\end{aligned}$$\n",
    "\n",
    "第二部分可以等价的写成$\\mathbb{1}(h(X)=1) - \\mathbb{1}(h^*(X)=1) = -(\\mathbb{1}(h(X)=0) - \\mathbb{1}(h^*(X)=0))$因此溢出风险可以写成：\n",
    "\n",
    "$$ \\begin{aligned}\n",
    "\\epsilon(h) &= R(h) - R(h^*) \\\\\n",
    "        &= \\mathbb{E}_{X \\sim P(X)} \\ [(2\\eta(X)-1) (\\mathbb{1}(h(X)=0) - \\mathbb{1}(h^*(X)=0))] \\\\\n",
    "        &= \\mathbb{E}_{X \\sim P(X)} \\ [\\vert 2\\eta(X)-1 \\vert P(h(X)\\neq h^*(X))] > 0 \\\\\n",
    "\\end{aligned}$$\n",
    "\n",
    "\n"
   ]
  },
  {
   "cell_type": "code",
   "execution_count": null,
   "metadata": {},
   "outputs": [],
   "source": []
  }
 ],
 "metadata": {
  "kernelspec": {
   "display_name": "Python 3",
   "language": "python",
   "name": "python3"
  },
  "language_info": {
   "codemirror_mode": {
    "name": "ipython",
    "version": 3
   },
   "file_extension": ".py",
   "mimetype": "text/x-python",
   "name": "python",
   "nbconvert_exporter": "python",
   "pygments_lexer": "ipython3",
   "version": "3.7.6"
  }
 },
 "nbformat": 4,
 "nbformat_minor": 4
}
