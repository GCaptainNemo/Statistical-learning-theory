{
 "cells": [
  {
   "cell_type": "markdown",
   "metadata": {},
   "source": [
    "# VC理论"
   ]
  },
  {
   "cell_type": "markdown",
   "metadata": {},
   "source": [
    "目前我们可以用Hoeffding不等式对假设空间$\\mathscr{H}$有限情况下，给出估计误差$R(\\hat{h}) - R(\\bar{h})$的尾概率界。而当$|\\mathscr{H}| = \\infty$的情况下，之前给出的上界会变为$\\infty$而失去意义，VC理论就是解决假设空间无限的情况下，估计误差上界的问题。"
   ]
  },
  {
   "cell_type": "markdown",
   "metadata": {},
   "source": [
    "## 一、Notation\n",
    "估计误差的上界为\n",
    "$$R(\\hat{h}) - R(\\bar{h}) \\leq 2\\sup_{h\\in \\mathscr{H}}|\\hat{R}_n(h) - R(h)|$$\n",
    "\n",
    "令$Z=(X,Y),\\mathscr{Y} = \\mathscr{X}\\times\\{0,1\\}。 \\ \\forall h$定义集合$A_h=\\{Z|h(X)\\neq Y\\}$，令$\\mathscr{A}=\\{A_h:h\\in \\mathscr{H}\\}$则$\\mu_n(A)=\\frac{1}{n}\\sum_{i=1}^n\\mathbb{1}(Z_i\\in A)$, $\\mu(A)=P(Z\\in A)$\n",
    "\n",
    "可以看到，经过以上定义，每个分类器$h$都对应一个错分集合$A_h$，假设空间$\\mathscr{H}$对应集合族$\\mathscr{A}$，满足关系\n",
    "\n",
    "$$\\sup_{h\\in \\mathscr{H}}|\\hat{R}_n(h) - R(h)| = \\sup_{A\\in \\mathscr{A}}|\\mu_n(A)-\\mu(A)|$$\n",
    "\n",
    "经过如上转换，令$g(Z_1, Z_2, ..., Z_n) = \\sup_{A\\in \\mathscr{A}}|\\mu_n(A)-\\mu(A)|$，则该函数满足$c_i=\\frac{1}{n}$的有界差分条件，可以应用有界差分不等式\n",
    "\n",
    "$$P(|g(Z_1, Z_2, ..., Z_n) - \\mathbb{E}[g(Z_1, Z_2, ..., Z_n)]| > t)\\\\ \n",
    "\\leq 2exp(\\frac{2t^2}{\\sum_{i=1}^n (1/n)}^2) = 2e^{-2nt^2}$$\n",
    "\n",
    "即至少有$1-\\delta$的概率可以确定\n",
    "$$\\sup_{A\\in \\mathscr{A}}|\\mu_n(A)-\\mu(A)| \\leq \\mathbb{E}[\\sup_{A\\in \\mathscr{A}}|\\mu_n(A)-\\mu(A)|] + \\sqrt{\\frac{log(2/\\delta)}{2n}}$$\n",
    "\n",
    "得到该上界后，需要给出$ \\mathbb{E}[\\sup_{A\\in \\mathscr{A}}|\\mu_n(A)-\\mu(A)|]$的上界，相当于将原随机变量的上界转换为其期望的上界。"
   ]
  },
  {
   "cell_type": "markdown",
   "metadata": {},
   "source": [
    "## 二、对称化和Rademacher复杂度\n",
    "### 2.1 对称化\n",
    "对称化(symmerization)是机器学习中经常使用的技术。令$D=\\{Z_1, ..., Z_n\\}$代表样本集合，构造样本集合$D$的一个**独立同分布**拷贝$D'$，也被称为ghost sample，则\n",
    "\n",
    "$$\\mu(A) = P(Z\\in A) = \\mathbb{E}[\\mu_n^{'}(A)|D]$$\n",
    "\n",
    "其中$\\mu_n^{'}:=\\frac{1}{n}\\sum_{i=1}^n\\mathbb{1}(Z_i'\\in A)$，由于同分布，因此$\\mu_n^{'}$是$\\mu$无偏估计量,故上式成立。\n",
    "\n",
    "$$\\begin{aligned}\n",
    "\\mathbb{E}[\\sup_{A\\in \\mathscr{A}}|\\mu_n(A)-\\mu(A)|] &= \n",
    "\\mathbb{E}[\\sup_{A\\in \\mathscr{A}}|\\mu_n(A)-\\mathbb{E}[\\mu_n^{'}(A)|D|]\\\\\n",
    "& \\leq \\mathbb{E}[\\sup_{A\\in \\mathscr{A}}\\mathbb{E}[|\\mu_n(A)-\\mu_n^{'}(A)||D]]\\\\\n",
    "& \\leq \\mathbb{E}[\\sup_{A\\in \\mathscr{A}}|\\mu_n(A)-\\mu_n^{'}(A)|]\n",
    "\\end{aligned}$$\n",
    "其中第一个不等号成立是因为绝对值函数是凸函数，由Jensen不等式得；第二个不等式由上确界与期望符号交换大小关系得到。经对称化后，**减号两边是独立同分布的随机变量**，因此可以引入Rademacher随机变量$\\sigma_i$。\n",
    "$$\\begin{aligned}\n",
    "\\mathbb{E}[\\sup_{A\\in \\mathscr{A}}|\\mu_n(A)-\\mu(A)|] &\\leq \n",
    "\\mathbb{E}[\\sup_{A\\in \\mathscr{A}}|\\frac{1}{n}\\sum_{i=1}^n \\sigma_i(\\mathbb{1}(Z_i\\in A) - \\mathbb{1}(Z_i^{'}\\in A))|] \\\\\n",
    "&\\leq 2\\mathbb{E}[\\frac{1}{n}\\sum_{i=1}^n \\sigma_i(\\mathbb{1}(Z_i\\in A)]\n",
    "\\end{aligned}$$\n",
    "### 2.2 Rademacher复杂度\n",
    "1. 关于集合族$\\mathscr{A}$的Rademacher复杂度：\n",
    "\n",
    "$$R_n(\\mathscr{A}) = \\sup_{z_1, ...,z_n\\in{\\mathscr{Y}}}\\mathbb{E}[\\sup_{A\\in \\mathscr{A}}|\\frac{1}{n}\\sum_{i=1}^n\\sigma_i\\mathbb{1}(z_i\\in A)|]$$\n",
    "\n",
    "2. 关于集合$B \\subset \\mathscr{R}^n$的Rademacher复杂度：\n",
    "\n",
    "$$R_n(B) = \\mathbb{E}[\\sup_{b\\in B}|\\frac{1}{n}\\sum_{i=1}^n\\sigma_i b_i|]$$\n",
    "\n",
    "根据以上定义可以将原问题转换成给出关于集合族$\\mathscr{A}$的Rademacher复杂度上界的问题。\n",
    "\n",
    "$$\\mathbb{E}[\\sup_{A\\in \\mathscr{A}}|\\mu_n(A)-\\mu(A)|] \\leq 2R_n(\\mathscr{A})$$"
   ]
  },
  {
   "cell_type": "code",
   "execution_count": null,
   "metadata": {},
   "outputs": [],
   "source": []
  },
  {
   "cell_type": "code",
   "execution_count": null,
   "metadata": {},
   "outputs": [],
   "source": []
  }
 ],
 "metadata": {
  "kernelspec": {
   "display_name": "Python 3",
   "language": "python",
   "name": "python3"
  },
  "language_info": {
   "codemirror_mode": {
    "name": "ipython",
    "version": 3
   },
   "file_extension": ".py",
   "mimetype": "text/x-python",
   "name": "python",
   "nbconvert_exporter": "python",
   "pygments_lexer": "ipython3",
   "version": "3.7.6"
  }
 },
 "nbformat": 4,
 "nbformat_minor": 4
}
