{
 "cells": [
  {
   "cell_type": "markdown",
   "metadata": {},
   "source": [
    "# 覆盖数(Covering Numbers)"
   ]
  },
  {
   "cell_type": "markdown",
   "metadata": {},
   "source": [
    "## 一、定义\n",
    "给定一个函数集合$\\mathscr{F}$和上面的一个伪度量(pseudo metric)$d$，$(\\mathscr{F}, d)$是一个度量空间。给定$\\epsilon > 0$，称$V \\subset \\mathscr{F}$是度量空间$(\\mathscr{F}, d)$的$\\epsilon$-网，当$\\forall f\\in \\mathscr{F}, \\exists g \\in V, s.t. d(f, g) \\leq \\epsilon$。而度量空间$(\\mathscr{F}, d)$的覆盖数(Covering Numbers)为\n",
    "\n",
    "$$N(\\mathscr{F}, d, \\epsilon) = \\inf\\{|V|: V是\\epsilon-网\\}$$"
   ]
  },
  {
   "cell_type": "code",
   "execution_count": null,
   "metadata": {},
   "outputs": [],
   "source": []
  }
 ],
 "metadata": {
  "kernelspec": {
   "display_name": "Python 3",
   "language": "python",
   "name": "python3"
  },
  "language_info": {
   "codemirror_mode": {
    "name": "ipython",
    "version": 3
   },
   "file_extension": ".py",
   "mimetype": "text/x-python",
   "name": "python",
   "nbconvert_exporter": "python",
   "pygments_lexer": "ipython3",
   "version": "3.8.3"
  }
 },
 "nbformat": 4,
 "nbformat_minor": 4
}
