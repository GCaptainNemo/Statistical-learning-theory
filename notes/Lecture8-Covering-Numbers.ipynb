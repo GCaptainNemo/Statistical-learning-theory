{
 "cells": [
  {
   "cell_type": "markdown",
   "metadata": {},
   "source": [
    "# 覆盖数(Covering Numbers)"
   ]
  },
  {
   "cell_type": "markdown",
   "metadata": {},
   "source": [
    "## 一、定义\n",
    "给定一个函数集合$\\mathscr{F}$和上面的一个伪度量(pseudo metric)$d$，$(\\mathscr{F}, d)$是一个度量空间。给定$\\epsilon > 0$，称$V \\subset \\mathscr{F}$是度量空间$(\\mathscr{F}, d)$的$\\epsilon$-网，当$\\forall f\\in \\mathscr{F}, \\exists g \\in V, s.t. d(f, g) \\leq \\epsilon$。而度量空间$(\\mathscr{F}, d)$的覆盖数(Covering Numbers)为\n",
    "\n",
    "$$N(\\mathscr{F}, d, \\epsilon) = \\inf\\{|V|: V是\\epsilon-网\\}$$"
   ]
  },
  {
   "cell_type": "markdown",
   "metadata": {},
   "source": [
    "**补充**：伪度量\n",
    "伪度量和度量唯一的区别在于\n",
    "$$d(x, y)=0 \\nrightarrow x = y$$\n",
    "考虑一个函数空间，$d(f, g) = \\int|f(x) - g(x)| dx$是一个度量，而在函数上关于自变量采样，样本之差的经验$L_1$距离(empirical $L_1$ distance)是函数空间上的伪度量。\n",
    "$$d_1^x(f, g) = \\frac{1}{n}\\sum_{i=1}^n|f(x_i) - g(x_i)|$$\n",
    "\n",
    "同理可以定义经验$L_p$距离\n",
    "\n",
    "$$d_p^x(f, g) = (\\frac{1}{n}\\sum_{i=1}^n|f(x_i) - g(x_i)|)^{1/p}$$\n",
    "\n",
    "当$p = \\infty$的时候\n",
    "\n",
    "$$d_\\infty^x(f, g) = \\max_i|f(x_i) - g(x_i)|$$\n"
   ]
  },
  {
   "cell_type": "markdown",
   "metadata": {},
   "source": [
    "## 二、例子\n",
    "\n",
    "### 2.1 L2球的覆盖数上界\n",
    "记$\\mathbb{R}^d$上半径为1的$L_2$球为$B_2$，则$\\forall \\epsilon \\leq 1, N(B_2, L_2, \\epsilon)\\leq (\\frac{3}{\\epsilon})^d$\n",
    "\n",
    "proof:\n",
    "该命题可以通过构造证明，构造集合V的方式如下所示：\n",
    "1. 从$B_2$中随机取一个点$u_i$，则关于$u_i$可以定义一个球$B(u_i, \\epsilon)$\n",
    "2. $B_2 \\leftarrow B_2 - B(u_i, \\epsilon)$\n",
    "3. 重复1，2两步，直到集合$B_2$为空集(可以在有限步内完成)，$V = \\{u_1, u_2, ..., u_N\\}$\n",
    "\n",
    "$\\forall i, j \\in \\{1, ..., N\\}$，集合$B(u_j, \\frac{\\epsilon}{2}) \\cap B(u_i, \\frac{\\epsilon}{2}) = \\emptyset$，否则 \n",
    "\n",
    "$$||u_i - u_j||_2 \\leq ||u_i - v||_2 + ||u_j - v||_2 \\leq \\epsilon$$\n",
    "\n",
    "这与集合$V$的构造方式矛盾。另外 \n",
    "\n",
    "$$\\cup_{j=1}^N B(u_j, \\frac{\\epsilon}{2}) \\subseteq (1 + \\frac{\\epsilon}{2})B_2$$\n",
    "\n",
    "因此\n",
    "\n",
    "$$|V|(\\frac{\\epsilon}{2})^d vol(B_2) \\leq (1 + \\frac{\\epsilon}{2})^d vol(B_2)$$\n",
    "$$|V| \\leq (1 + \\frac{\\epsilon}{2})^d  / (\\frac{\\epsilon}{2})^d \\leq (\\frac{3}{\\epsilon})^d$$\n"
   ]
  },
  {
   "cell_type": "markdown",
   "metadata": {},
   "source": [
    "**命题**：$\\forall 1\\leq p \\leq q, \\epsilon > 0$有$N(\\mathscr{F}, d_p^x, \\epsilon) \\leq N(\\mathscr{F}, d_q^x, \\epsilon)$\n",
    "\n",
    "**证明**：p越大，两个点之间$L_p$距离越大，因此$L_q$下可以覆盖一定能推出$L_p$下覆盖，所以$N(\\mathscr{F}, d_p^x, \\epsilon) \\leq N(\\mathscr{F}, d_q^x, \\epsilon)$\n"
   ]
  },
  {
   "cell_type": "code",
   "execution_count": null,
   "metadata": {},
   "outputs": [],
   "source": []
  }
 ],
 "metadata": {
  "kernelspec": {
   "display_name": "Python 3",
   "language": "python",
   "name": "python3"
  },
  "language_info": {
   "codemirror_mode": {
    "name": "ipython",
    "version": 3
   },
   "file_extension": ".py",
   "mimetype": "text/x-python",
   "name": "python",
   "nbconvert_exporter": "python",
   "pygments_lexer": "ipython3",
   "version": "3.8.3"
  }
 },
 "nbformat": 4,
 "nbformat_minor": 4
}
