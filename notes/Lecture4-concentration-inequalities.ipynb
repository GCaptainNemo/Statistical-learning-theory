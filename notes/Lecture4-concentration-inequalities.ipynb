{
 "cells": [
  {
   "cell_type": "markdown",
   "metadata": {},
   "source": [
    "# 集中不等式(concentration inequalities)"
   ]
  },
  {
   "cell_type": "markdown",
   "metadata": {},
   "source": [
    "集中不等式对随机变量函数关于其均值之差给一个界(随机变量有多接近它的均值)。Hoeffding不等式是最基本的集中不等式，以下不等式都是在Hoeffding不等式的基础上延伸得到的。"
   ]
  },
  {
   "cell_type": "markdown",
   "metadata": {},
   "source": [
    "## 1. 非一致有界的Hoeffding不等式\n",
    "\n",
    "在二分类问题的Oracle不等式中使用了一致有界情况下的Hoeffding不等式，下面证明更一般的非一致有界情况下的Hoeffding不等式。\n",
    "\n",
    "**定理**：若随机变量序列$\\{X_i\\}i=1,2,...,n$之间相互独立，$\\forall i, \\mathbb{E}[X_i]=0$且$X_i\\in[a_i, b_i]$,则\n",
    "$\\forall t>0, P(\\frac{1}{n}\\sum_{i=1}^nX_i>t) \\leq exp(-\\frac{2n^2t^2}{\\sum_{i=1}^n(b_i - a_i)^2})$\n",
    "\n",
    "**证明**：\n",
    "\n",
    "首先由Chernoff Bound,$\\forall s>0$\n",
    "$$\\begin{aligned}\n",
    "P(\\frac{1}{n}\\sum_{i=1}^n X_i> t) &= P(exp(s\\sum_{i=1}^nX_i)> exp(nst)) \\\\\n",
    "                               &\\leq exp(-nst)\\prod_{i=1}^n \\mathbb{E}[exp(sX_i)]\n",
    "\\end{aligned}$$\n",
    "\n",
    "由Hoeffding Lemma知对于均值为0的有界随机变量，其矩生成函数的上界为\n",
    "\n",
    "$$\\mathbb{E}[exp(sX_i)] \\leq exp(\\frac{s^2(b_i - a_i)^2}{8})$$\n",
    "\n",
    "则\n",
    "\n",
    "$$\\begin{aligned}\n",
    "P(\\frac{1}{n}\\sum_{i=1}^n > t) &\\leq exp(-nst)\\prod_{i=1}^n \\mathbb{E}[exp(sX_i)] \\\\\n",
    "                               &\\leq exp(\\sum_{i=1}^n\\frac{s^2(b_i-a_i)^2}{8}-nst)\\\\\n",
    "\\end{aligned}$$\n",
    "\n",
    "当$s=\\frac{4nt}{\\sum_{i=1}^{n}(b_i - a_i)^2} > 0$时，上式右边有最小值$exp(-\\frac{2nt^2}{\\sum_{i=1}^n(b_i - a_i)^2})$，则\n",
    "$$\\forall t>0, P(\\frac{1}{n}\\sum_{i=1}^nX_i>t) \\leq exp(-\\frac{2n^2t^2}{\\sum_{i=1}^n(b_i - a_i)^2})$$\n"
   ]
  },
  {
   "cell_type": "markdown",
   "metadata": {},
   "source": [
    "## 2. Azuma-Hoeffding不等式\n",
    "### 2.1 鞅与鞅差分序列\n",
    "定义1：称空间$\\mathscr{X}$上的随机变量序列$X_1,X_2, ...$(离散时间)为**鞅**(martingale),如果其满足$\\forall i,\\mathbb{E}[\\vert X_i \\vert] < \\infty, E[X_i\\vert X_1, X_2, ..., X_{i-1}] = X_{i-1}$\n",
    "\n",
    "定义2：称随机变量序列$\\Delta_1,\\Delta_2, ...$是随机变量序列$X_1,X_2, ...$的**鞅差分序列**(martingale differences)，如果对$\\forall i>1,\\Delta_i$是$X_1, ..., X_i$的函数，且$\\mathbb{E}[\\Delta_i\\vert X_1, ..., X_{i-1}]=0$。\n",
    "\n",
    "如果随机变量序列$X_1,X_2, ...$是鞅，令$\\Delta_i=X_i - X_{i-1}, i=2, 3, ...$，则$\\Delta_i$是$X_1,X_2,...,X_i$的函数，且$\\mathbb{E}[\\Delta_i\\vert X_1, ..., X_{i-1}]=0$，因此$\\Delta_1,\\Delta_2, ...$是一个鞅差分序列。\n",
    "\n",
    "鞅本来是用来研究一个游戏是否公平的，假设在某游戏的第i轮总收益为$X_i$，则如果这个游戏是公平的，下一轮的总收益的期望应该也是$X_i$，即$E[X_{i+1}\\vert X_1, X_2, ..., X_i] = X_i$。而每轮的收益即前后两轮总收益之差，如果游戏是公平的，每轮收益的期望应该为0，即$\\mathbb{E}[\\Delta_i\\vert X_1, ..., X_{i-1}]=0$ ，这就是鞅差分序列。鞅和马尔可夫序列是随机过程中最重要的两个随机过程，前者刻画了随机过程的公平性、无漂移性；后者刻画了随机过程的无记忆性。\n",
    "\n",
    "### 2.2 Azuma-Hoeffding不等式\n",
    "假设$\\Delta_1,\\Delta_2, ...$是一个鞅差分序列，并假设$\\forall i>0,\\exists 常数c_i和X_1, X_2, ...X_{i-1}的函数Z_i 使得 Z_i \\leq \\Delta_i \\leq Z_i + c_i$, 则对$\\forall t>0$有\n",
    "\n",
    "$$P(\\frac{1}{n}\\sum_{i=1}^n\\Delta_i>t)\\leq exp\\{-\\frac{2n^2t^2}{\\sum_{i=1}^n{c_i}^2}\\}$$\n"
   ]
  },
  {
   "cell_type": "markdown",
   "metadata": {},
   "source": [
    "## 3. 有界差分不等式\n",
    "略，见教材"
   ]
  },
  {
   "cell_type": "markdown",
   "metadata": {},
   "source": [
    "## 4. Berstein不等式\n",
    "略，见教材"
   ]
  },
  {
   "cell_type": "markdown",
   "metadata": {},
   "source": [
    "## 5. 总结\n",
    "\n",
    "集中不等式衡量的是随机变量和其均值的偏差，以上不等式都是Hoeffding不等式的推广。其中Hoeffding不等式要求随机变量独立且一致有界，Azuma-Hoeffding不等式和有界差分不等式则不要求随机变量独立且一致有界。Berstein不等式则考虑已知方差的情况下，Hoeffding不等式的推广。"
   ]
  },
  {
   "cell_type": "code",
   "execution_count": null,
   "metadata": {},
   "outputs": [],
   "source": []
  }
 ],
 "metadata": {
  "kernelspec": {
   "display_name": "Python 3",
   "language": "python",
   "name": "python3"
  },
  "language_info": {
   "codemirror_mode": {
    "name": "ipython",
    "version": 3
   },
   "file_extension": ".py",
   "mimetype": "text/x-python",
   "name": "python",
   "nbconvert_exporter": "python",
   "pygments_lexer": "ipython3",
   "version": "3.7.6"
  }
 },
 "nbformat": 4,
 "nbformat_minor": 4
}
