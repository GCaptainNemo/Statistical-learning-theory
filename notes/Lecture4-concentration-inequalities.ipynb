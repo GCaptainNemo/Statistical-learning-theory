{
 "cells": [
  {
   "cell_type": "markdown",
   "metadata": {},
   "source": [
    "# 集中不等式(concentration inequalities)"
   ]
  },
  {
   "cell_type": "markdown",
   "metadata": {},
   "source": [
    "集中不等式对随机变量函数关于其均值之差给一个界(随机变量有多接近它的均值)。Hoeffding不等式是最基本的集中不等式，以下不等式都是在Hoeffding不等式的基础上延伸得到的。"
   ]
  },
  {
   "cell_type": "markdown",
   "metadata": {},
   "source": [
    "## 1. 非一致有界的Hoeffding不等式\n",
    "\n",
    "在二分类问题的Oracle不等式中使用了一致有界情况下的Hoeffding不等式，下面证明更一般的非一致有界情况下的Hoeffding不等式。\n",
    "\n",
    "**定理**：若随机变量序列$\\{X_i\\}i=1,2,...,n$之间相互独立，$\\forall i, \\mathbb{E}[X_i]=0$且$X_i\\in[a_i, b_i]$,则\n",
    "$\\forall t>0, P(\\frac{1}{n}\\sum_{i=1}^nX_i>t) \\leq exp(-\\frac{2n^2t^2}{\\sum_{i=1}^n(b_i - a_i)^2})$\n",
    "\n",
    "**证明**：\n",
    "\n",
    "首先由Chernoff Bound,$\\forall s>0$\n",
    "$$\\begin{aligned}\n",
    "P(\\frac{1}{n}\\sum_{i=1}^n X_i> t) &= P(exp(s\\sum_{i=1}^nX_i)> exp(nst)) \\\\\n",
    "                               &\\leq exp(-nst)\\prod_{i=1}^n \\mathbb{E}[exp(sX_i)]\n",
    "\\end{aligned}$$\n",
    "\n",
    "由Hoeffding Lemma知对于均值为0的有界随机变量，其矩生成函数的上界为\n",
    "\n",
    "$$\\mathbb{E}[exp(sX_i)] \\leq exp(\\frac{s^2(b_i - a_i)^2}{8})$$\n",
    "\n",
    "则\n",
    "\n",
    "$$\\begin{aligned}\n",
    "P(\\frac{1}{n}\\sum_{i=1}^n > t) &\\leq exp(-nst)\\prod_{i=1}^n \\mathbb{E}[exp(sX_i)] \\\\\n",
    "                               &\\leq exp(\\sum_{i=1}^n\\frac{s^2(b_i-a_i)^2}{8}-nst)\\\\\n",
    "\\end{aligned}$$\n",
    "\n",
    "当$s=\\frac{4nt}{\\sum_{i=1}^{n}(b_i - a_i)^2} > 0$时，上式右边有最小值$exp(-\\frac{2nt^2}{\\sum_{i=1}^n(b_i - a_i)^2})$，则\n",
    "$$\\forall t>0, P(\\frac{1}{n}\\sum_{i=1}^nX_i>t) \\leq exp(-\\frac{2n^2t^2}{\\sum_{i=1}^n(b_i - a_i)^2})$$\n"
   ]
  },
  {
   "cell_type": "markdown",
   "metadata": {},
   "source": [
    "## 2. Azuma-Hoeffding不等式\n",
    "### 2.1 鞅与鞅差分序列\n",
    "定义1：称空间$\\mathscr{X}$上的随机变量序列$X_1,X_2, ...$(离散时间)为**鞅**(martingale),如果其满足$\\forall i,\\mathbb{E}[\\vert X_i \\vert] < \\infty, E[X_i\\vert X_1, X_2, ..., X_{i-1}] = X_{i-1}$\n",
    "\n",
    "定义2：称随机变量序列$\\Delta_1,\\Delta_2, ...$是随机变量序列$X_1,X_2, ...$的**鞅差分序列**(martingale differences)，如果对$\\forall i>1,\\Delta_i$是$X_1, ..., X_i$的函数，且$\\mathbb{E}[\\Delta_i\\vert X_1, ..., X_{i-1}]=0$。\n",
    "\n",
    "如果随机变量序列$X_1,X_2, ...$是鞅，令$\\Delta_i=X_i - X_{i-1}, i=2, 3, ...$，则$\\Delta_i$是$X_1,X_2,...,X_i$的函数，且$\\mathbb{E}[\\Delta_i\\vert X_1, ..., X_{i-1}]=0$，因此$\\Delta_1,\\Delta_2, ...$是一个鞅差分序列。\n",
    "\n",
    "鞅本来是用来研究一个游戏是否公平的，假设在某游戏的第i轮总收益为$X_i$，则如果这个游戏是公平的，下一轮的总收益的期望应该也是$X_i$，即$E[X_{i+1}\\vert X_1, X_2, ..., X_i] = X_i$。而每轮的收益即前后两轮总收益之差，如果游戏是公平的，每轮收益的期望应该为0，即$\\mathbb{E}[\\Delta_i\\vert X_1, ..., X_{i-1}]=0$ ，这就是鞅差分序列。鞅和马尔可夫序列是随机过程中最重要的两个随机过程，前者刻画了随机过程的公平性、无漂移性；后者刻画了随机过程的无记忆性。\n",
    "\n",
    "### 2.2 Azuma-Hoeffding不等式\n",
    "$\\Delta_1,\\Delta_2, ...$是一个鞅差分序列，且$\\forall i>0,\\exists 常数c_i和X_1, X_2, ...X_{i-1}的函数Z_i 使得 Z_i \\leq \\Delta_i \\leq Z_i + c_i$, 则对$\\forall t>0$有\n",
    "\n",
    "$$P(\\frac{1}{n}\\sum_{i=1}^n\\Delta_i>t)\\leq exp\\{-\\frac{2n^2t^2}{\\sum_{i=1}^n{c_i}^2}\\}$$\n"
   ]
  },
  {
   "cell_type": "markdown",
   "metadata": {},
   "source": [
    "**证明**：\n",
    "首先由Chernoff Bound：\n",
    "\n",
    "$$P(\\frac{1}{n}\\sum_{i=1}^n\\Delta_i>t)\\leq e^{-nst} \\mathbb{E}[e^{s\\sum_{i=1}^n \\Delta_i}]$$\n",
    "\n",
    "由塔律(Tower law):\n",
    "\n",
    "$$\\begin{aligned}\n",
    "\\mathbb{E}[e^{s\\sum_{i=1}^n \\Delta_i}] &= \\mathbb{E}[\\mathbb{E}[e^{s\\sum_{i=1}^n \\Delta_i}|X_1, X_2, ..., X_{n-1}]]\\\\\n",
    "&= \\mathbb{E}[e^{s\\sum_{i=1}^{n-1} \\Delta_i}\\mathbb{E}[e^{s\\Delta_n}|X_1, X_2, ..., X_{n-1}]]\\\\\n",
    "&\\leq \\mathbb{E}[e^{s\\sum_{i=1}^{n-1} \\Delta_i}exp\\{\\frac{s^2 \\ c_n^2}{8}\\}]\n",
    "\\end{aligned}$$\n",
    "\n",
    "上式可以递归地进行，最终可以得到与非一致有界Hoeffding不等式一样关于s的函数的形式，再对s求最小即可得到鞅差分不等式(Azuma-Hoeffding不等式)。"
   ]
  },
  {
   "cell_type": "markdown",
   "metadata": {},
   "source": [
    "## 3. 有界差分不等式\n",
    "令$g:\\mathscr{X}\\rightarrow \\mathscr{R}$，是一个从$X_1 \\times X_2 \\times ...\\times X_n $数域到实数域$\\mathscr{R}$的映射。若对任意一个分量$X_i$的变动，该函数的变动是有界的，即\n",
    "\n",
    "$$\\sup_{X_1, X_2, ..., X_n, X_i^{'}}|g(X_1, X_2, ..., X_n) - g(X_1,..., X_i^{'}, ..., X_n)|\\leq c_i$$\n",
    "\n",
    "则称函数g满足**有界差分条件**(bounded differences condition)。直观上来说，如果一个函数的各个分量变动，其函数值的变化都不大(有界)，则这个函数应该主要集中(concentrate)在它的均值附近。\n",
    "\n",
    "\n",
    "**有界差分不等式**:如果$g:\\mathscr{X}\\rightarrow \\mathscr{R}$满足有界差分条件，则\n",
    "\n",
    "\n",
    "$$P(|g(X_1, X_2, ..., X_n) - \\mathbb{E}[g(X_1, X_2, ..., X_n)]|>t) \\leq 2exp(-\\frac{2t^2}{\\sum_{i}c_i^2})$$"
   ]
  },
  {
   "cell_type": "markdown",
   "metadata": {},
   "source": [
    "**证明**:\n",
    "\n",
    "lemma1. 条件塔律\n",
    "$\\mathbb{E}[\\mathbb{E}[g(X_1, X_2, ..., X_n)|X_1, X_2, ..., X_i]|X_1, X_2, ..., X_{i-1}] \\\\ = \\mathbb{E}[g(X_1, X_2, ..., X_n)|X_1, X_2, ..., X_{i-1}]$\n",
    "\n",
    "$$P(g(X_1, X_2, ..., X_n)|X_1, X_2, ..., X_{i-1}) = \\\\ \\int_{X_i}P(g(X_1, X_2, ..., X_n)|X_1, X_2, ..., X_i)P(X_i|X_1, X_2, ..., X_{i-1})dX_i$$\n",
    "\n",
    "上式两边对$g(X_1, X_2, ..., X_n)$求期望即得到条件塔律。Q.E.D.\n",
    "\n",
    "\n",
    "下面证明有界差分不等式，其证明需要利用鞅差分不等式，令\n",
    "\n",
    "$$\\Delta_i = \\mathbb{E}[g(X_1, X_2, ..., X_n)|X_1, X_2, ..., X_i] - \\\\ \\mathbb{E}[g(X_1, X_2, ..., X_n)|X_1, X_2, ..., X_{i-1}]$$\n",
    "\n",
    "则$\\{\\Delta_i\\}_{i=1,2,...,n}$是鞅差分序列，因为根据条件塔律：\n",
    "\n",
    "$$\\mathbb{E}[\\mathbb{E}[g(X_1, X_2, ..., X_n)|X_1, X_2, ..., X_i]|X_1, X_2, ..., X_{i-1}] \\\\ = \\mathbb{E}[g(X_1, X_2, ..., X_n)|X_1, X_2, ..., X_{i-1}]$$\n",
    "\n",
    "此外$\\sum_{i=1}^n \\Delta_i = g(X_1, X_2, ..., X_n) - \\mathbb{E}[g(X_1, X_2, ..., X_n)]$\n",
    "\n",
    "综上，根据鞅差分不等式即可证明有界差分不等式。"
   ]
  },
  {
   "cell_type": "markdown",
   "metadata": {},
   "source": [
    "### 例题\n",
    "随机变量$X_i\\in[0,1]$，代表第i个包裹的体积大小，令$B_n$代表存储$X_1, X_2, ..., X_n$所需的最小箱子数，每个箱子的体积为1，证明$P(|B_n-\\mathbb{E}[B_n]| > t)\\leq 2e^{-\\frac{2t^2}{n}}$\n",
    "\n",
    "**证明**:随机变量$B_n$代表存储n个包裹所需的最小盒子数，可以看成是$X_1, X_2, ..., X_n$的函数，即$B_n = B_n(X_1, X_2, ..., X_n)$，由于每个包裹大小$X_i$是一致有界的，所以容易验证$B_n$满足有界差分条件(Bounded differences condition),即\n",
    "\n",
    "$$\\forall i, \\exists c_i = 1, s.t., \\sup_{X_1, X_2, ..., X_n, X_i^{'}}|B_n(X_1, X_2, ..., X_n) - B_n(X_1, ...,X_i^{'}, ..., X_n)|\\leq c_i$$\n",
    "\n",
    "之所以$c_i=1$，是因为由于$X_i\\in[0, 1]$，$X_i$的变动最多给$B_n$带来一个盒子的变化幅度。由有界差分不等式(bounded differnces inequality)\n",
    "\n",
    "$$ P(|B_n - \\mathbb{E}[B_n]| > t) \\leq 2exp(-\\frac{2t^2}{\\sum_i c_i^2}) = 2exp(-\\frac{2t^2}{n}) $$"
   ]
  },
  {
   "cell_type": "markdown",
   "metadata": {},
   "source": [
    "## 4. Berstein不等式\n",
    "略，见教材"
   ]
  },
  {
   "cell_type": "markdown",
   "metadata": {},
   "source": [
    "## 5. 总结\n",
    "\n",
    "集中不等式衡量的是随机变量有多接近其均值，以上不等式都是Hoeffding不等式的推广。其中Hoeffding不等式要求随机变量独立，鞅差分不等式和有界差分不等式则不要求随机变量独立。Berstein不等式则考虑已知方差的情况下，Hoeffding不等式的推广。"
   ]
  }
 ],
 "metadata": {
  "kernelspec": {
   "display_name": "Python 3",
   "language": "python",
   "name": "python3"
  },
  "language_info": {
   "codemirror_mode": {
    "name": "ipython",
    "version": 3
   },
   "file_extension": ".py",
   "mimetype": "text/x-python",
   "name": "python",
   "nbconvert_exporter": "python",
   "pygments_lexer": "ipython3",
   "version": "3.7.6"
  }
 },
 "nbformat": 4,
 "nbformat_minor": 4
}
