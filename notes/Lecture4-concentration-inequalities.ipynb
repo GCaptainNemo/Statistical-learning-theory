{
 "cells": [
  {
   "cell_type": "markdown",
   "metadata": {},
   "source": [
    "# 集中不等式(concentration inequalities)"
   ]
  },
  {
   "cell_type": "markdown",
   "metadata": {},
   "source": [
    "集中不等式让我们去对随机变量函数关于其均值之差给一个界(随机变量有多接近它的均值)。"
   ]
  },
  {
   "cell_type": "markdown",
   "metadata": {},
   "source": [
    "## 1. Azuma-Hoeffding不等式\n",
    "### 1.1 鞅与鞅差分序列\n",
    "定义1：称空间$\\mathscr{X}$上的随机变量序列$X_1,X_2, ...$(离散时间)为鞅(martingale),如果其满足$\\forall i,\\mathbb{E}[\\vert X_i \\vert] < \\infty, E[X_i\\vert X_1, X_2, ..., X_{i-1}] = X_{i-1}$\n",
    "\n",
    "定义2：称随机变量序列$\\Delta_1,\\Delta_2, ...$是随机变量序列$X_1,X_2, ...$的**鞅差分序列**，如果对$\\forall i>1,\\Delta_i$是$X_1, ..., X_i$的函数，且$\\mathbb{E}[\\Delta_i\\vert X_1, ..., X_{i-1}]=0$。\n",
    "\n",
    "如果随机变量序列$X_1,X_2, ...$是鞅，令$\\Delta_i=X_i - X_{i-1}, i=2, 3, ...$，则$\\Delta_i$是$X_1,X_2,...,X_i$的函数，且$\\mathbb{E}[\\Delta_i\\vert X_1, ..., X_{i-1}]=0$，因此$\\Delta_1,\\Delta_2, ...$是一个鞅差分序列。\n",
    "\n",
    "### 1.2 Azuma-Hoeffding不等式\n",
    "假设$\\Delta_1,\\Delta_2, ...$是一个鞅差分序列，并假设$\\forall i>0,\\exists 常数c_i和X_1, X_2, ...X_{i-1}的函数Z_i 使得 Z_i \\leq \\Delta_i \\leq Z_i + c_i$, 则对$\\forall t>0$有\n",
    "\n",
    "$$P(\\frac{1}{n}\\sum_{i=1}^n\\Delta_i>t)\\leq exp\\{-\\frac{2n^2t^2}{\\sum_{i=1}^n{c_i}^2}\\}$$\n"
   ]
  },
  {
   "cell_type": "markdown",
   "metadata": {},
   "source": [
    "## 2. 有界差分不等式\n"
   ]
  },
  {
   "cell_type": "code",
   "execution_count": null,
   "metadata": {},
   "outputs": [],
   "source": []
  }
 ],
 "metadata": {
  "kernelspec": {
   "display_name": "Python 3",
   "language": "python",
   "name": "python3"
  },
  "language_info": {
   "codemirror_mode": {
    "name": "ipython",
    "version": 3
   },
   "file_extension": ".py",
   "mimetype": "text/x-python",
   "name": "python",
   "nbconvert_exporter": "python",
   "pygments_lexer": "ipython3",
   "version": "3.7.6"
  }
 },
 "nbformat": 4,
 "nbformat_minor": 4
}
