{
 "cells": [
  {
   "cell_type": "markdown",
   "metadata": {},
   "source": [
    "# Oracle不等式"
   ]
  },
  {
   "cell_type": "markdown",
   "metadata": {},
   "source": [
    "## 1. 介绍\n",
    "Oracle是一个虚构的分类器$\\bar{h}$，定义为$\\bar{h} = \\arg \\min_{h \\in \\mathscr{H}}R(h)$,也就是说给定一个假设空间$\\mathscr{H}$就有一个虚构的分类器$\\bar{h}$。Oracle不等式就是给出类似以下形式的界：\n",
    "$$\\begin{equation}\n",
    "R(\\hat{h}_n) \\leq R(\\bar{h}) + something \\ small\n",
    "\\end{equation}$$\n",
    "\n",
    "它衡量的是经验风险最小值(ERM)$\\hat{h}_n$有多接近假设空间的最小值$\\bar{h}$，由于$R(\\hat{h}_n)$与数据集$D_n$有关，是个随机变量，因此最后Oracle不等式的具体形式为：\n",
    "\n",
    "$$P(R(\\hat{h}_n) \\leq R(\\bar{h}) + \\Delta_{n,\\delta}(\\mathscr{H})) \\geq 1- \\delta$$\n",
    "\n",
    "给出一个关于期望或者尾部分布的界，其中$\\Delta_{n,\\delta}(\\mathscr{H})$与数据集的个数$n$和置信度$\\delta$有关。\n",
    "\n",
    "回顾[Lecture-1](./Lecture1.ipynb)中关于估计误差和逼近误差的定义，其中逼近误差是一旦给定假设空间$\\mathscr{H}$就固定的值，而Oracle不等式主要是要给出关于估计误差(由于样本随机性带来的误差)的界。\n",
    "\n",
    "$$\\epsilon(\\hat{h}_n) = R(\\hat{h}_n) - R(h^*) = \\underbrace{R(\\hat{h}_n) - R(\\bar{h})}_{估计误差} + \\underbrace{R(\\bar{h}) - R(h^*)}_{逼近误差}$$\n"
   ]
  },
  {
   "cell_type": "markdown",
   "metadata": {},
   "source": [
    "## 2. Hoeffding不等式\n"
   ]
  },
  {
   "cell_type": "code",
   "execution_count": null,
   "metadata": {},
   "outputs": [],
   "source": []
  },
  {
   "cell_type": "code",
   "execution_count": null,
   "metadata": {},
   "outputs": [],
   "source": []
  }
 ],
 "metadata": {
  "kernelspec": {
   "display_name": "Python 3",
   "language": "python",
   "name": "python3"
  },
  "language_info": {
   "codemirror_mode": {
    "name": "ipython",
    "version": 3
   },
   "file_extension": ".py",
   "mimetype": "text/x-python",
   "name": "python",
   "nbconvert_exporter": "python",
   "pygments_lexer": "ipython3",
   "version": "3.7.6"
  }
 },
 "nbformat": 4,
 "nbformat_minor": 4
}
