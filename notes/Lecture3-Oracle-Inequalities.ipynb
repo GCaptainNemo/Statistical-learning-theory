{
 "cells": [
  {
   "cell_type": "markdown",
   "metadata": {},
   "source": [
    "# Oracle不等式"
   ]
  },
  {
   "cell_type": "markdown",
   "metadata": {},
   "source": [
    "## 1. 介绍\n",
    "Oracle是一个虚构的分类器$\\bar{h}$，定义为$\\bar{h} = \\arg \\min_{h \\in \\mathscr{H}}R(h)$,也就是说给定一个假设空间$\\mathscr{H}$就有一个虚构的分类器$\\bar{h}$。Oracle不等式就是给出类似以下形式的界：\n",
    "$$\\begin{equation}\n",
    "R(\\hat{h}_n) \\leq R(\\bar{h}) + something \\ small\n",
    "\\end{equation}$$\n",
    "\n",
    "它衡量的是经验风险最小值(ERM)$\\hat{h}_n$有多接近假设空间的最小值$\\bar{h}$，由于$R(\\hat{h}_n)$与数据集$D_n$有关，是个随机变量，因此最后Oracle不等式的具体形式为：\n",
    "\n",
    "$$P(R(\\hat{h}_n) \\leq R(\\bar{h}) + \\Delta_{n,\\delta}(\\mathscr{H})) \\geq 1- \\delta$$\n",
    "\n",
    "给出一个关于期望或者尾分布的界，其中$\\Delta_{n,\\delta}(\\mathscr{H})$与数据集的个数$n$和置信度$\\delta$有关。\n",
    "\n",
    "回顾[Lecture-1](./Lecture1.ipynb)中关于估计误差和逼近误差的定义，其中逼近误差是一旦给定假设空间$\\mathscr{H}$就固定的值，而Oracle不等式主要是要给出关于估计误差(由于样本随机性带来的误差)的界。\n",
    "\n",
    "$$\\epsilon(\\hat{h}_n) = R(\\hat{h}_n) - R(h^*) = \\underbrace{R(\\hat{h}_n) - R(\\bar{h})}_{估计误差} + \\underbrace{R(\\bar{h}) - R(h^*)}_{逼近误差}$$\n"
   ]
  },
  {
   "cell_type": "markdown",
   "metadata": {},
   "source": [
    "## 2. Hoeffding不等式\n"
   ]
  },
  {
   "cell_type": "markdown",
   "metadata": {},
   "source": [
    "### 2.1 Chernoff界\n",
    "设随机变量$Z_1, Z_2, ...,Z_n$独立，则对$\\forall s > 0$，\n",
    "\n",
    "$$\\begin{aligned}\n",
    "P(\\frac{1}{n}\\sum_{i=1}^n Z_i > t) &= P(s\\sum_{i=1}^n Z_i > nst)  \\\\\n",
    "                        &= P(exp\\{s\\sum_{i=1}^n Z_i\\} > exp\\{nst\\})\\\\ \n",
    "                       &\\leq \\mathbb{E}[\\frac{exp\\{s\\sum_{i=1}^n Z_i\\}}{exp\\{nst\\}}] \\\\\n",
    "                       &=e^{-nst} \\prod_{i=1}^n\\mathbb{E}[e^{sZ_i}]\\\\                       \n",
    "\\end{aligned} $$\n",
    "\n",
    "上式第三行根据Markov不等式，其中$\\mathbb{E}[e^{sZ_i}]$称为随机变量$Z_i$的矩生成函数(moment-generating function)。Chernoff界给出了独立随机变量之和的尾分布一个指数递减的界。"
   ]
  },
  {
   "cell_type": "markdown",
   "metadata": {},
   "source": [
    "### 2.2 Hoeffding引理\n",
    "若随机变量$X\\in [a, b]$几乎处处成立，且$E[X] = 0$，则对$\\forall s\\in R$，对$Z$的矩生成函数$\\mathbb{E}[Z]$有：\n",
    "$$\\mathbb{E}[e^{sZ}] \\leq e^{\\frac{s^2(b-a)^2}{8}}$$\n",
    "\n",
    "证明略    \n"
   ]
  },
  {
   "cell_type": "markdown",
   "metadata": {},
   "source": [
    "### 2.3 Hoeffding不等式\n",
    "\n",
    "若$X_1, X_2, ..., X_n$表示n个独立的随机变量，且$X_i \\in [0,1] \\forall i$几乎处处成立，则对$\\forall t > 0$，有\n",
    "$$P(\\vert \\frac{1}{n}\\sum_{i=1}^nX_i-\\mathbb{E}[X_i] \\vert > t) \\leq 2e^{-2nt^2}$$\n",
    "\n",
    "下面证明Hoeffding上尾概率的界，下尾概率有同样的结论。令$Z_i = X_i - \\mathbb{E}[X_i]$，则由前面证明的Chernoff界可得：\n",
    "$$\\begin{aligned}\n",
    "P(\\frac{1}{n}\\sum_{i=1}^n Z_i > t) &= P(s\\sum_{i=1}^n Z_i > nst)  \\\\\n",
    "                        &= P(exp\\{s\\sum_{i=1}^n Z_i\\} > exp\\{nst\\})\\\\ \n",
    "                       &\\leq e^{-nst} \\prod_{i=1}^n\\mathbb{E}[e^{sZ_i}]\\\\                       \n",
    "\\end{aligned} $$\n",
    "\n",
    "再根据Hoeffding引理和可得可得以上不等式右边满足：\n",
    "$$\\begin{aligned}\n",
    " P(\\frac{1}{n}\\sum_{i=1}^n Z_i > t) \\leq e^{-nst} \\prod_{i=1}^n\\mathbb{E}[e^{sZ_i}] &\\leq e^{-nst} e^{\\frac{ns^2}{8}}\\\\\n",
    "\\end{aligned} $$\n",
    "\n",
    "关于参数s求最小值($s=4t>0$)可得：\n",
    "$$\\begin{aligned}\n",
    " P(\\frac{1}{n}\\sum_{i=1}^n Z_i > t) \\leq e^{-2nt^2}\\\\\n",
    "\\end{aligned} $$\n"
   ]
  },
  {
   "cell_type": "markdown",
   "metadata": {},
   "source": [
    "## 3 Hoeffding不等式应用\n",
    "### 3.1 对任意分类器\n",
    "对任意分类器$h$，有\n",
    "\n",
    "$$\\hat{R}_n(h) - R(h) = \\frac{1}{n}\\sum_{i=1}^n\\mathbb{1}(h(X_i)\\neq Y_i) - \\mathbb{E}(h(X_i) \\neq Y_i)$$\n",
    "\n",
    "Hoeffding不等式说明\n",
    "\n",
    "$$P(\\vert \\hat{R}_n(h) - R(h) \\vert > t) \\leq 2e^{-2nt^2} $$\n",
    "\n",
    "也可以等价地说，对于界\n",
    "\n",
    "$$\\vert \\hat{R}_n(h) - R(h) \\vert \\leq \\sqrt{\\frac{\\log(2/\\delta)}{2n}}$$\n",
    "\n",
    "有至少$1-\\delta$的把握成立。\n",
    "\n",
    "### 3.2 对有限假设空间(有限字典)\n",
    "假设空间$\\mathscr{H} = {h_1, h_2, ...,h_M}$有限(也称为有限字典)，则\n",
    "\n",
    "$$P(\\max_{j\\in\\{1,2,...,M\\}}\\vert \\hat{R}_n(h_j) - R(h_j) \\vert > t) \\leq \\sum_{j=1}^{M}P(\\vert \\hat{R}_n(h_j) - R(h_j) \\vert > t)$$\n",
    "\n",
    "代入3.1中分类器的结论可得界\n",
    "\n",
    "$$\\max_{j\\in\\{1,2,...,M\\}}\\vert \\hat{R}_n(h_j) - R(h_j) \\vert \\leq \\sqrt{\\frac{\\log(2M/\\delta)}{2n}} $$\n",
    "\n",
    "有至少$1-\\delta$的把握成立。通过这个有限字典的例子可以看出，在假设空间$\\mathscr{H}$随着样本数量$n$指数级增加的情况下，界的估计有相同的致信率。\n",
    "\n",
    "### 3.3 有限字典Oracle不等式\n",
    "估计误差比较的是ERM的分类误差和Oracle分类误差之间的差距，下面两个结论告诉我们，尽管$\\hat{h}$一般比Oracle的分类效果差，但只要采样数目n相对于假设空间$\\mathscr{H}$的势M不太小，那么ERM和Oracle分类误差之间的差距不会太大。\n",
    "#### 3.3.1 尾概率的界\n",
    "[Lecture-1](./Lecture1.ipynb)中给出了估计误差的一个分解形式：\n",
    "$$ \\begin{aligned}\n",
    "R(\\hat{h}_n) - R(\\bar{h}) &=(R(\\hat{h}_n) - \\hat{R}_n(\\hat{h}_n)) + \\underbrace{(\\hat{R}_n(\\hat{h}_n) - \\hat{R}_n(\\bar{h}))}_{\\leq 0} + (\\hat{R}_n(\\bar{h}) -R(\\bar{h})) \\\\\n",
    "& \\leq \\vert \\hat{R}_n(\\hat{h}_n) - R(\\hat{h}_n)) \\vert + \\vert \\hat{R}_n(\\bar{h}) -R(\\bar{h}) \\vert\n",
    "\\end{aligned}$$\n",
    "则在有限字典情况下，在假设空间上取最大，并利用Hoeffding不等式有\n",
    "\n",
    "$$ \\vert \\hat{R}_n(\\hat{h}_n) - R(\\hat{h}_n)) \\vert + \\vert \\hat{R}_n(\\bar{h}) -R(\\bar{h}) \\vert \\leq 2\\max_{j\\in\\{1,2,...,M\\}}\\vert \\hat{R}_n(h_j) - R(h_j) \\vert $$\n",
    "\n",
    "根据3.2结论，界\n",
    "\n",
    "$$R(\\hat{h}_n) \\leq R(\\bar{h}) + \\sqrt{\\frac{2\\log(2M/\\delta)}{n}} $$\n",
    "\n",
    "至少有$1-\\delta$的置信度成立。\n",
    "\n",
    "#### 3.3.2 期望的界\n",
    "经验风险最小值$\\hat{h}_n$有关于期望的界\n",
    "\n",
    "$$\\mathbb{E}[R(\\hat{h}_n)] \\leq R(\\bar{h}) + \\sqrt{\\frac{2\\log(2M/\\delta)}{n}} $$\n"
   ]
  }
 ],
 "metadata": {
  "kernelspec": {
   "display_name": "Python 3",
   "language": "python",
   "name": "python3"
  },
  "language_info": {
   "codemirror_mode": {
    "name": "ipython",
    "version": 3
   },
   "file_extension": ".py",
   "mimetype": "text/x-python",
   "name": "python",
   "nbconvert_exporter": "python",
   "pygments_lexer": "ipython3",
   "version": "3.7.6"
  }
 },
 "nbformat": 4,
 "nbformat_minor": 4
}
