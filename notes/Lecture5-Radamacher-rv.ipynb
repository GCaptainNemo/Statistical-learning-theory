{
 "cells": [
  {
   "cell_type": "markdown",
   "metadata": {},
   "source": [
    "# Radamacher随机变量"
   ]
  },
  {
   "cell_type": "markdown",
   "metadata": {},
   "source": [
    "Radamacher随机变量$\\sigma$是一种特殊的随机变量，满足\n",
    "$$P(\\sigma=1)=P(\\sigma=-1)=0.5$$\n",
    "且与样本随机变量独立。引入Radamacher r.v.是一种构造对称性的数学处理技术。\n"
   ]
  },
  {
   "cell_type": "markdown",
   "metadata": {},
   "source": [
    "## 例题\n",
    "令$X_1, X_2, ..., X_n$是n个独立同分布的r.v.，且$X_i$和$-X_i$有相同的分布，$\\bar{X}$代表$X_i$的平均统计量，$V=\\frac{1}{n}\\sum_{i=1}^{n}X_i^2$代表样本二阶中心矩，证明$P(\\frac{\\bar{X}}{\\sqrt{V}} > t)\\leq exp(-nt^2/2)$\n",
    "\n",
    "\n",
    "\n",
    "**证明**：\n",
    "构造Rademacher随机变量序列$\\{ \\sigma_i\\}_{i=1,2,...,n}$满足\n",
    "\n",
    "$$P(\\sigma_i = -1)= P(\\sigma_i = 1)=0.5$$\n",
    "\n",
    "且$\\sigma_1, \\sigma_2, ..., \\sigma_n$与$X_1, X_2, ..., X_n$独立。根据$X_i$的对称性，$\\bar{X}$的分布与$\\frac{<\\sigma, X>}{n}$的分布相同。令\n",
    "\n",
    "$$Y_i=\\frac{X_i\\sigma_i}{\\sqrt{V}},i=1,2,...,n$$\n",
    "\n",
    "则$Y_1, Y_2, ..., Y_n$独立，均值为0，且满足$Y_i \\in \\{\\frac{-X_i}{\\sqrt{V}}, \\frac{X_i}{\\sqrt{V}}\\}$。考虑关于Radamacher随机变量的上尾概率，则$X_i$可以当做常数，$Y_i$取值区间的长度为$\\frac{2|X_i|}{\\sqrt{V}}$。则由非一致有界情况下的Hoeffding不等式可得\n",
    "\n",
    "$$P_{\\sigma}(\\frac{<\\sigma, X>}{n} > t) \\leq exp(-\\frac{2n^2t^2}{\\sum_{i=1}^{n}(\\frac{2|X_i|}{\\sqrt{V}})^2}) = e^{-\\frac{nt^2}{2}}$$\n",
    "\n",
    "\n",
    "则\n",
    "$$\\begin{aligned}\n",
    "P_X(\\frac{\\bar{X}}{\\sqrt{V}} > t)&=P_{X, \\sigma}(\\frac{<\\sigma, X>}{n\\sqrt{V}} > t)\\\\\n",
    "&= \\mathbb{E}_X[\\mathbb{E}_\\sigma[\\mathbb{I}(\\frac{<\\sigma, X>}{n\\sqrt{V}}) > t]] \\\\\n",
    "&= \\mathbb{E}_X[P_\\sigma(\\frac{<\\sigma, X>}{n\\sqrt{V}} > t)] \\\\\n",
    "&\\leq \\mathbb{E}_X[exp(-nt^2/2)] \\\\\n",
    "& =exp(-nt^2/2)\n",
    "\\end{aligned}$$"
   ]
  },
  {
   "cell_type": "code",
   "execution_count": null,
   "metadata": {},
   "outputs": [],
   "source": []
  }
 ],
 "metadata": {
  "kernelspec": {
   "display_name": "Python 3",
   "language": "python",
   "name": "python3"
  },
  "language_info": {
   "codemirror_mode": {
    "name": "ipython",
    "version": 3
   },
   "file_extension": ".py",
   "mimetype": "text/x-python",
   "name": "python",
   "nbconvert_exporter": "python",
   "pygments_lexer": "ipython3",
   "version": "3.7.6"
  }
 },
 "nbformat": 4,
 "nbformat_minor": 4
}
